{
 "cells": [
  {
   "cell_type": "code",
   "execution_count": 7,
   "metadata": {},
   "outputs": [],
   "source": [
    "#Loading packages\n",
    "\n",
    "import numpy as np\n",
    "import matplotlib.pyplot as plt\n",
    "from sklearn import linear_model\n",
    "import math\n",
    "import random\n",
    "import json\n",
    "from numpy import genfromtxt\n",
    "from datetime import datetime, timedelta"
   ]
  },
  {
   "cell_type": "code",
   "execution_count": 8,
   "metadata": {},
   "outputs": [
    {
     "name": "stdout",
     "output_type": "stream",
     "text": [
      "['tweet_data/tweets_#nfl.txt', 'tweet_data/tweets_#superbowl.txt', 'tweet_data/tweets_#sb49.txt', 'tweet_data/tweets_#patriots.txt', 'tweet_data/tweets_#gopatriots.txt', 'tweet_data/tweets_#gohawks.txt']\n"
     ]
    }
   ],
   "source": [
    "import os\n",
    "dir_path = 'tweet_data/'\n",
    "hash_files = os.listdir(dir_path)\n",
    "\n",
    "hash_filenames = []\n",
    "\n",
    "\n",
    "\n",
    "for f in hash_files:\n",
    "    hash_filenames.append(dir_path + f)\n",
    "print(hash_filenames)\n",
    "\n",
    "num_hash = len(hash_filenames)"
   ]
  },
  {
   "cell_type": "code",
   "execution_count": 41,
   "metadata": {},
   "outputs": [
    {
     "name": "stdout",
     "output_type": "stream",
     "text": [
      "For  tweet_data/tweets_#nfl.txt total number of retweets is 398517\n",
      "<_io.TextIOWrapper name='tweet_data/tweets_#nfl.txt' mode='r' encoding='UTF-8'>\n",
      "Average number of tweets per hour 0.6551400909614405\n",
      "Average number of followers of users posting the tweets:  4289.746617531629\n",
      "Average number of retweets:  1.5385331089011056\n",
      "For  tweet_data/tweets_#superbowl.txt total number of retweets is 3221223\n",
      "<_io.TextIOWrapper name='tweet_data/tweets_#superbowl.txt' mode='r' encoding='UTF-8'>\n",
      "Average number of tweets per hour 3.4113958596334086\n",
      "Average number of followers of users posting the tweets:  3591.604474474039\n",
      "Average number of retweets:  2.3882723999030224\n",
      "For  tweet_data/tweets_#sb49.txt total number of retweets is 2076597\n",
      "<_io.TextIOWrapper name='tweet_data/tweets_#sb49.txt' mode='r' encoding='UTF-8'>\n",
      "Average number of tweets per hour 2.0915774343715414\n",
      "Average number of followers of users posting the tweets:  2235.1636799951193\n",
      "Average number of retweets:  2.5111487863247035\n",
      "For  tweet_data/tweets_#patriots.txt total number of retweets is 873068\n",
      "<_io.TextIOWrapper name='tweet_data/tweets_#patriots.txt' mode='r' encoding='UTF-8'>\n",
      "Average number of tweets per hour 1.2386135164295726\n",
      "Average number of followers of users posting the tweets:  1650.321982506216\n",
      "Average number of retweets:  1.7828156491659402\n",
      "For  tweet_data/tweets_#gopatriots.txt total number of retweets is 36727\n",
      "<_io.TextIOWrapper name='tweet_data/tweets_#gopatriots.txt' mode='r' encoding='UTF-8'>\n",
      "Average number of tweets per hour 0.06634950333969641\n",
      "Average number of followers of users posting the tweets:  1298.8242710358234\n",
      "Average number of retweets:  1.4000838670326319\n",
      "For  tweet_data/tweets_#gohawks.txt total number of retweets is 379022\n",
      "<_io.TextIOWrapper name='tweet_data/tweets_#gohawks.txt' mode='r' encoding='UTF-8'>\n",
      "Average number of tweets per hour 0.475856007510066\n",
      "Average number of followers of users posting the tweets:  1544.9697802197802\n",
      "Average number of retweets:  2.014617085512608\n"
     ]
    }
   ],
   "source": [
    "for i in range(num_hash):  \n",
    "    max_sec = 0\n",
    "    min_sec = 0\n",
    "    tmp = 0\n",
    "    num_followers = 0\n",
    "    user_set = set()\n",
    "   \n",
    "    with open(hash_filenames[i]) as input_file:\n",
    "        \n",
    "        for single_line in input_file:\n",
    "            tweets = json.loads(single_line)\n",
    "            \n",
    "            if tweets['tweet']['user']['id'] not in user_set:\n",
    "                user_set.add(tweets['tweet']['user']['id'])\n",
    "                num_followers = num_followers + tweets['author']['followers']\n",
    "            \n",
    "            if tmp is not 0:\n",
    "                min_sec = tweets['citation_date']\n",
    "                tmp = 1\n",
    "            \n",
    "            max_sec = tweets['citation_date']\n",
    "        \n",
    "        input_file.close()\n",
    "    \n",
    "    time_in_hours = ((max_sec - min_sec) / 3600) + 0.00\n",
    "    total_user = len(user_set)\n",
    "    \n",
    "    #print('For ', hash_filenames[i], 'hashtag ', total_user, 'users tweeted in the last', time_in_hours, 'hours')\n",
    "    \n",
    "    with open(hash_filenames[i]) as input_file:\n",
    "            \n",
    "            tweet_count = [0] * (int(time_in_hours) + 1)\n",
    "            \n",
    "            j = -1\n",
    "            num_retweets = 0\n",
    "            num_tweets = 0\n",
    "           \n",
    "        \n",
    "            for single_line in input_file:\n",
    "                tweets = json.loads(single_line)\n",
    "                j = math.floor((tweets['citation_date'] - min_sec) / 3600.0)\n",
    "                \n",
    "                if j <= len(tweet_count):\n",
    "                    tweet_count[j] = tweet_count[j] + 1\n",
    "                    num_tweets = num_tweets + 1\n",
    "                else:\n",
    "                    print('j: ', j, 'window size: ', len(tweet_count))\n",
    "                num_retweets = num_retweets + tweets['metrics']['citations']['total']\n",
    "                \n",
    "            print('For ', hash_filenames[i], 'total number of retweets is', num_retweets)\n",
    "            \n",
    "            window = [0]*(int(time_in_hours) + 1)\n",
    "            k = 0\n",
    "            total_tweets = 0\n",
    "            \n",
    "            while k <= int(time_in_hours):\n",
    "                window[k] = k\n",
    "                \n",
    "                if tweet_count[k] > 0:\n",
    "                    total_tweets = total_tweets + tweet_count[k]\n",
    "                \n",
    "                k = k + 1\n",
    "            \n",
    "            \n",
    "            print(input_file)    \n",
    "            \n",
    "            avg_num_tweets = total_tweets / (time_in_hours + 1.0)\n",
    "            print('Average number of tweets per hour', avg_num_tweets)\n",
    "            \n",
    "            avg_num_followers = (num_followers + 0.0) / (total_user + 0.0)\n",
    "            print('Average number of followers of users posting the tweets: ', avg_num_followers)\n",
    "            \n",
    "            avg_num_retweets = (num_retweets + 0.0) / (num_tweets + 0.0)\n",
    "            print('Average number of retweets: ', avg_num_retweets)\n"
   ]
  },
  {
   "cell_type": "code",
   "execution_count": null,
   "metadata": {},
   "outputs": [],
   "source": []
  }
 ],
 "metadata": {
  "kernelspec": {
   "display_name": "Python 3",
   "language": "python",
   "name": "python3"
  },
  "language_info": {
   "codemirror_mode": {
    "name": "ipython",
    "version": 3
   },
   "file_extension": ".py",
   "mimetype": "text/x-python",
   "name": "python",
   "nbconvert_exporter": "python",
   "pygments_lexer": "ipython3",
   "version": "3.5.2"
  }
 },
 "nbformat": 4,
 "nbformat_minor": 2
}
