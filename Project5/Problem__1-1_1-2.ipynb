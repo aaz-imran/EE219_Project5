{
 "cells": [
  {
   "cell_type": "code",
   "execution_count": 25,
   "metadata": {},
   "outputs": [],
   "source": [
    "#Loading packages\n",
    "\n",
    "import numpy as np\n",
    "import matplotlib.pyplot as plt\n",
    "from sklearn import linear_model\n",
    "import math\n",
    "import random\n",
    "import json\n",
    "from numpy import genfromtxt\n",
    "from datetime import datetime, timedelta\n",
    "import time\n",
    "import pytz"
   ]
  },
  {
   "cell_type": "code",
   "execution_count": 2,
   "metadata": {},
   "outputs": [
    {
     "name": "stdout",
     "output_type": "stream",
     "text": [
      "['tweet_data/tweets_#nfl.txt', 'tweet_data/tweets_#superbowl.txt', 'tweet_data/tweets_#sb49.txt', 'tweet_data/tweets_#patriots.txt', 'tweet_data/tweets_#gopatriots.txt', 'tweet_data/tweets_#gohawks.txt']\n"
     ]
    }
   ],
   "source": [
    "import os\n",
    "dir_path = 'tweet_data/'\n",
    "hash_files = os.listdir(dir_path)\n",
    "\n",
    "hash_filenames = []\n",
    "\n",
    "\n",
    "\n",
    "for f in hash_files:\n",
    "    hash_filenames.append(dir_path + f)\n",
    "print(hash_filenames)\n",
    "\n",
    "num_hash = len(hash_filenames)"
   ]
  },
  {
   "cell_type": "code",
   "execution_count": 95,
   "metadata": {},
   "outputs": [
    {
     "name": "stdout",
     "output_type": "stream",
     "text": [
      "Statistics for  #nfl -------------\n",
      "Total tweets:  259024\n",
      "Total time:  927\n",
      "Average number of tweets per hour 279.24999992513295\n",
      "Average number of followers of users posting the tweets:  4289.746617531629\n",
      "Total retweets:  398517\n",
      "Average number of retweets:  1.5385331089011056\n"
     ]
    },
    {
     "data": {
      "image/png": "[encoded data removed]",
      "text/plain": [
       "<matplotlib.figure.Figure at 0x7fadf924f908>"
      ]
     },
     "metadata": {},
     "output_type": "display_data"
    },
    {
     "name": "stdout",
     "output_type": "stream",
     "text": [
      "\n",
      "\n",
      "Statistics for  #superbowl -------------\n",
      "Total tweets:  1348767\n",
      "Total time:  963\n",
      "Average number of tweets per hour 1399.791338440804\n",
      "Average number of followers of users posting the tweets:  3591.604474474039\n",
      "Total retweets:  3221223\n",
      "Average number of retweets:  2.3882723999030224\n"
     ]
    },
    {
     "data": {
      "image/png": "[encoded data removed]",
      "text/plain": [
       "<matplotlib.figure.Figure at 0x7fadf8f867f0>"
      ]
     },
     "metadata": {},
     "output_type": "display_data"
    },
    {
     "name": "stdout",
     "output_type": "stream",
     "text": [
      "\n",
      "\n",
      "Statistics for  #sb49 -------------\n",
      "Total tweets:  826951\n",
      "Total time:  583\n",
      "Average number of tweets per hour 1417.4541164169596\n",
      "Average number of followers of users posting the tweets:  2235.1636799951193\n",
      "Total retweets:  2076597\n",
      "Average number of retweets:  2.5111487863247035\n",
      "\n",
      "\n",
      "Statistics for  #patriots -------------\n",
      "Total tweets:  489713\n",
      "Total time:  981\n",
      "Average number of tweets per hour 498.9122489367139\n",
      "Average number of followers of users posting the tweets:  1650.321982506216\n",
      "Total retweets:  873068\n",
      "Average number of retweets:  1.7828156491659402\n",
      "\n",
      "\n",
      "Statistics for  #gopatriots -------------\n",
      "Total tweets:  26232\n",
      "Total time:  684\n",
      "Average number of tweets per hour 38.328618451760065\n",
      "Average number of followers of users posting the tweets:  1298.8242710358234\n",
      "Total retweets:  36727\n",
      "Average number of retweets:  1.4000838670326319\n",
      "\n",
      "\n",
      "Statistics for  #gohawks -------------\n",
      "Total tweets:  188136\n",
      "Total time:  973\n",
      "Average number of tweets per hour 193.3459206610117\n",
      "Average number of followers of users posting the tweets:  1544.9697802197802\n",
      "Total retweets:  379022\n",
      "Average number of retweets:  2.014617085512608\n",
      "\n",
      "\n"
     ]
    }
   ],
   "source": [
    "pst_tz = pytz.timezone('US/Pacific')\n",
    "\n",
    "for i in range(num_hash):  \n",
    "    max_sec = 0\n",
    "    min_sec = 0\n",
    "    tmp = 0\n",
    "    num_followers = 0\n",
    "    user_set = set()\n",
    "   \n",
    "    with open(hash_filenames[i]) as input_file:\n",
    "        \n",
    "        for single_line in input_file:\n",
    "            tweets = json.loads(single_line)\n",
    "            \n",
    "            if tweets['tweet']['user']['id'] not in user_set:\n",
    "                user_set.add(tweets['tweet']['user']['id'])\n",
    "                num_followers = num_followers + tweets['author']['followers']\n",
    "            \n",
    "            if tmp is 0:\n",
    "                min_sec = tweets['firstpost_date']\n",
    "                tmp = 1\n",
    "            \n",
    "            max_sec = tweets['firstpost_date']\n",
    "            \n",
    "        input_file.close()\n",
    "    \n",
    "    time_in_hours = ((max_sec - min_sec) / 3600) + 0.00\n",
    "    total_user = len(user_set)\n",
    "    \n",
    "    #print('For ', hash_filenames[i], 'hashtag ', total_user, 'users tweeted in the last', time_in_hours, 'hours')\n",
    "    \n",
    "    with open(hash_filenames[i]) as input_file:\n",
    "            hash_tags = hash_filenames[i]\n",
    "            hash_tag = hash_tags[18:-4]\n",
    "            \n",
    "            tweet_count = [0] * (int(time_in_hours) + 1)\n",
    "            \n",
    "            j = -1\n",
    "            num_retweets = 0\n",
    "            num_tweets = 0\n",
    "           \n",
    "        \n",
    "            for single_line in input_file:\n",
    "                tweets = json.loads(single_line)\n",
    "                j = math.floor((tweets['citation_date'] - min_sec) / 3600.0)\n",
    "                \n",
    "                if j <= len(tweet_count):\n",
    "                    tweet_count[j] = tweet_count[j] + 1\n",
    "                    num_tweets = num_tweets + 1\n",
    "                else:\n",
    "                    print('j: ', j, 'window size: ', len(tweet_count))\n",
    "                num_retweets = num_retweets + tweets['metrics']['citations']['total']\n",
    "                \n",
    "            #print('For ', hash_filenames[i], 'total number of retweets is', num_retweets)\n",
    "            \n",
    "            window = [0]*(int(time_in_hours) + 1)\n",
    "            k = 0\n",
    "            total_tweets = 0\n",
    "            \n",
    "            while k <= int(time_in_hours):\n",
    "                window[k] = k\n",
    "                \n",
    "                if tweet_count[k] > 0:\n",
    "                    total_tweets = total_tweets + tweet_count[k]\n",
    "                \n",
    "                k = k + 1\n",
    "            \n",
    "            print('Statistics for ', hash_tag, '-------------')    \n",
    "            \n",
    "            avg_num_tweets = total_tweets / (time_in_hours + 1.0)\n",
    "            print('Total tweets: ', total_tweets)\n",
    "            print('Total time: ', int(time_in_hours + 1))\n",
    "            print('Average number of tweets per hour', avg_num_tweets)\n",
    "            \n",
    "            avg_num_followers = (num_followers + 0.0) / (total_user + 0.0)\n",
    "            print('Average number of followers of users posting the tweets: ', avg_num_followers)\n",
    "            \n",
    "            avg_num_retweets = (num_retweets + 0.0) / (num_tweets + 0.0)\n",
    "            print('Total retweets: ', num_retweets)\n",
    "            print('Average number of retweets: ', avg_num_retweets)\n",
    "            \n",
    "            #Plotting per hour tweets for #superbowl and #nfl\n",
    "            if hash_tag == '#superbowl' or hash_tag == '#nfl':\n",
    "                plt.bar(window, tweet_count)\n",
    "                titl = 'Number of tweets in hour' + hash_tags\n",
    "                plt.title(titl)\n",
    "                plt.show()\n",
    "    \n",
    "    \n",
    "            print('\\n')"
   ]
  }
 ],
 "metadata": {
  "kernelspec": {
   "display_name": "Python 3",
   "language": "python",
   "name": "python3"
  },
  "language_info": {
   "codemirror_mode": {
    "name": "ipython",
    "version": 3
   },
   "file_extension": ".py",
   "mimetype": "text/x-python",
   "name": "python",
   "nbconvert_exporter": "python",
   "pygments_lexer": "ipython3",
   "version": "3.5.2"
  }
 },
 "nbformat": 4,
 "nbformat_minor": 2
}
